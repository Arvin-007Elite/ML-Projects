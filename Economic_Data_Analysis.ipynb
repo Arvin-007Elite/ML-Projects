{
  "nbformat": 4,
  "nbformat_minor": 0,
  "metadata": {
    "colab": {
      "provenance": [],
      "authorship_tag": "ABX9TyOS7Drodk8oEJsEQ2xX2MZT",
      "include_colab_link": true
    },
    "kernelspec": {
      "name": "python3",
      "display_name": "Python 3"
    },
    "language_info": {
      "name": "python"
    }
  },
  "cells": [
    {
      "cell_type": "markdown",
      "metadata": {
        "id": "view-in-github",
        "colab_type": "text"
      },
      "source": [
        "<a href=\"https://colab.research.google.com/github/Arvin-007Elite/PYTHON/blob/master/Economic_Data_Analysis.ipynb\" target=\"_parent\"><img src=\"https://colab.research.google.com/assets/colab-badge.svg\" alt=\"Open In Colab\"/></a>"
      ]
    },
    {
      "cell_type": "markdown",
      "source": [
        "Economic Data Analysis with Fred & Pandas¶\n",
        "Pull The data, Visualize, discover insights... All with python/pandas!"
      ],
      "metadata": {
        "id": "lB4j4BdbkUyR"
      }
    },
    {
      "cell_type": "markdown",
      "source": [
        "Economic Data Analysis with Fred & Pandas\n",
        "Pull The data, Visualize, discover insights... All with python/pandas!\n",
        "\n",
        "This notebook was created as a youtube tutorial you can find on my channel here.\n",
        "\n",
        "\n",
        "\n",
        "!pip install fredapi > /dev/null\n",
        "\n",
        "WARNING: Running pip as the 'root' user can result in broken permissions and conflicting behaviour with the system package manager. It is recommended to use a virtual environment instead: https://pip.pypa.io/warnings/venv"
      ],
      "metadata": {
        "id": "H2GcvFlfk2MR"
      }
    },
    {
      "cell_type": "code",
      "source": [
        "!pip install fredapi > /dev/null"
      ],
      "metadata": {
        "id": "CxpJ3SkmlhbY"
      },
      "execution_count": 1,
      "outputs": []
    },
    {
      "cell_type": "code",
      "source": [
        "import pandas as pd\n",
        "import numpy as np\n",
        "import matplotlib.pyplot as plt\n",
        "import plotly.express as px\n",
        "import time"
      ],
      "metadata": {
        "id": "UHAA0T1jlDOA"
      },
      "execution_count": null,
      "outputs": []
    }
  ]
}