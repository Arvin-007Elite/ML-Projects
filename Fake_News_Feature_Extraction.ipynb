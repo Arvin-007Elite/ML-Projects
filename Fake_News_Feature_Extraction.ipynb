{
  "nbformat": 4,
  "nbformat_minor": 0,
  "metadata": {
    "colab": {
      "provenance": [],
      "authorship_tag": "ABX9TyNvARtdpWHo4K11upzZKDjd",
      "include_colab_link": true
    },
    "kernelspec": {
      "name": "python3",
      "display_name": "Python 3"
    },
    "language_info": {
      "name": "python"
    }
  },
  "cells": [
    {
      "cell_type": "markdown",
      "metadata": {
        "id": "view-in-github",
        "colab_type": "text"
      },
      "source": [
        "<a href=\"https://colab.research.google.com/github/Arvin-007Elite/PYTHON/blob/master/Fake_News_Feature_Extraction.ipynb\" target=\"_parent\"><img src=\"https://colab.research.google.com/assets/colab-badge.svg\" alt=\"Open In Colab\"/></a>"
      ]
    },
    {
      "cell_type": "code",
      "execution_count": 1,
      "metadata": {
        "id": "VftKaQILZCa5"
      },
      "outputs": [],
      "source": [
        "# converting string datas into numerical datas , which machine understands easier and processes it quickly\n",
        "# mapping of textual data to real valued vectors is called fueture extraction"
      ]
    },
    {
      "cell_type": "code",
      "source": [
        "# Bag of Words : list of unique words in collection of words\n",
        "# creates a list of unique words\n",
        "\n",
        "# TF-IDF(Term frequency - inverse doc freq)  : in that list , it counts the no of words appears in a doc\n",
        "\n",
        "# used for spam mail detection\n",
        "# offers , discounts - if it counts these , it can find its spam !\n",
        "\n",
        "# doing this vectorization , it doesnt understands  meaning , but it counts !\n",
        "\n",
        "# Formula (TF) : no  of appearing in doc / total no of terms in doc\n",
        "# Formula (IDF) : log(N/n) , where N is no of docs and n is no of docs term appeared\n",
        "\n",
        "\n",
        "# iDF value of a rare word is high , whereas IDF of a frequent word is low ,\n",
        "# TF - IDF : TF * IDF (Formula)\n",
        "\n",
        "# This is the process to convert text to numeric"
      ],
      "metadata": {
        "id": "0icZ4X7JZZfv"
      },
      "execution_count": 2,
      "outputs": []
    },
    {
      "cell_type": "code",
      "source": [],
      "metadata": {
        "id": "ohyuXHQLa4st"
      },
      "execution_count": null,
      "outputs": []
    }
  ]
}