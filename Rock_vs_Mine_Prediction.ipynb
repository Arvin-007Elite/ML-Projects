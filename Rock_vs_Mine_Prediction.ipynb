{
  "nbformat": 4,
  "nbformat_minor": 0,
  "metadata": {
    "colab": {
      "provenance": [],
      "authorship_tag": "ABX9TyMhrrw7MH+144ne4iX2rSNR",
      "include_colab_link": true
    },
    "kernelspec": {
      "name": "python3",
      "display_name": "Python 3"
    },
    "language_info": {
      "name": "python"
    }
  },
  "cells": [
    {
      "cell_type": "markdown",
      "metadata": {
        "id": "view-in-github",
        "colab_type": "text"
      },
      "source": [
        "<a href=\"https://colab.research.google.com/github/Arvin-007Elite/PYTHON/blob/master/Rock_vs_Mine_Prediction.ipynb\" target=\"_parent\"><img src=\"https://colab.research.google.com/assets/colab-badge.svg\" alt=\"Open In Colab\"/></a>"
      ]
    },
    {
      "cell_type": "code",
      "execution_count": 1,
      "metadata": {
        "id": "RU4MjMp0PPBT"
      },
      "outputs": [],
      "source": [
        "# Concept - During War , our submarine travels to other country , but they places mines in sea ,\n",
        "# so we have to find our sub is crossing a mine or rock to escape using SONAR SIGNALS , because mine is made with metal\n",
        "#  so the object is made with metal or not !\n",
        "# thru that will easily find , rock or mine"
      ]
    },
    {
      "cell_type": "code",
      "source": [
        "# SO this is a Binary Classification Problem , we use Logistic Regression\n",
        "# Which is Supervised Learning"
      ],
      "metadata": {
        "id": "aphZf4lMPkhC"
      },
      "execution_count": null,
      "outputs": []
    }
  ]
}