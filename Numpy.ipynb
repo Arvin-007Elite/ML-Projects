{
  "nbformat": 4,
  "nbformat_minor": 0,
  "metadata": {
    "colab": {
      "provenance": [],
      "authorship_tag": "ABX9TyNvCd82q2qTnXPYRaIVoyLC",
      "include_colab_link": true
    },
    "kernelspec": {
      "name": "python3",
      "display_name": "Python 3"
    },
    "language_info": {
      "name": "python"
    }
  },
  "cells": [
    {
      "cell_type": "markdown",
      "metadata": {
        "id": "view-in-github",
        "colab_type": "text"
      },
      "source": [
        "<a href=\"https://colab.research.google.com/github/Arvin-007Elite/PYTHON/blob/master/Numpy.ipynb\" target=\"_parent\"><img src=\"https://colab.research.google.com/assets/colab-badge.svg\" alt=\"Open In Colab\"/></a>"
      ]
    },
    {
      "cell_type": "code",
      "execution_count": 1,
      "metadata": {
        "id": "22WBt4UzkOYP"
      },
      "outputs": [],
      "source": [
        "import numpy as np"
      ]
    },
    {
      "cell_type": "markdown",
      "source": [
        "##Comparing Lists vs NP_Arrays"
      ],
      "metadata": {
        "id": "gClmH2rSkk6v"
      }
    },
    {
      "cell_type": "code",
      "source": [
        "# Lists\n",
        "List1 = [1,2,3,4,5]\n",
        "print(List1)\n",
        "type(List1)"
      ],
      "metadata": {
        "colab": {
          "base_uri": "https://localhost:8080/"
        },
        "id": "XuN_jaVBkbYB",
        "outputId": "8381ff07-f426-4637-e929-a490a62e7543"
      },
      "execution_count": 3,
      "outputs": [
        {
          "output_type": "stream",
          "name": "stdout",
          "text": [
            "[1, 2, 3, 4, 5]\n"
          ]
        },
        {
          "output_type": "execute_result",
          "data": {
            "text/plain": [
              "list"
            ]
          },
          "metadata": {},
          "execution_count": 3
        }
      ]
    },
    {
      "cell_type": "markdown",
      "source": [],
      "metadata": {
        "id": "EACZd9pnkkPp"
      }
    },
    {
      "cell_type": "code",
      "source": [
        "np_array = np.array([1,2,3,4,5])\n",
        "print(np_array)\n",
        "type(np_array)"
      ],
      "metadata": {
        "colab": {
          "base_uri": "https://localhost:8080/"
        },
        "id": "DfzkWjIwk9K_",
        "outputId": "1442090a-83bc-44ab-9878-36f5b2397a20"
      },
      "execution_count": 4,
      "outputs": [
        {
          "output_type": "stream",
          "name": "stdout",
          "text": [
            "[1 2 3 4 5]\n"
          ]
        },
        {
          "output_type": "execute_result",
          "data": {
            "text/plain": [
              "numpy.ndarray"
            ]
          },
          "metadata": {},
          "execution_count": 4
        }
      ]
    },
    {
      "cell_type": "markdown",
      "source": [
        "#Numpy arrays r faster than Lists\n",
        "Normally lists produces CSV answers\n",
        "but\n",
        "Numpy gives whole number values as answers\n",
        "Even in float !"
      ],
      "metadata": {
        "id": "Tf08WR47lLR_"
      }
    },
    {
      "cell_type": "code",
      "source": [
        "# 1-Dimension\n",
        "a = np.array([1,2,3,4,5])\n",
        "print(a)\n",
        "a.shape"
      ],
      "metadata": {
        "colab": {
          "base_uri": "https://localhost:8080/"
        },
        "id": "VS7IbZyAlHfD",
        "outputId": "1cb457c3-440c-45ff-92b4-4e472e5a43fa"
      },
      "execution_count": 5,
      "outputs": [
        {
          "output_type": "stream",
          "name": "stdout",
          "text": [
            "[1 2 3 4 5]\n"
          ]
        },
        {
          "output_type": "execute_result",
          "data": {
            "text/plain": [
              "(5,)"
            ]
          },
          "metadata": {},
          "execution_count": 5
        }
      ]
    },
    {
      "cell_type": "markdown",
      "source": [
        "2 - Dimensions , which displays , rows and columns as values"
      ],
      "metadata": {
        "id": "yWddO7GhqVU4"
      }
    },
    {
      "cell_type": "code",
      "source": [
        "b = np.array([(1,2,3,4,5), (6,7,8,9,10)])\n",
        "print(b)\n",
        "b.shape"
      ],
      "metadata": {
        "colab": {
          "base_uri": "https://localhost:8080/"
        },
        "id": "R6XZiIwIpHAs",
        "outputId": "2f496124-70b0-4b11-bbd2-cfcbc8a60423"
      },
      "execution_count": 6,
      "outputs": [
        {
          "output_type": "stream",
          "name": "stdout",
          "text": [
            "[[ 1  2  3  4  5]\n",
            " [ 6  7  8  9 10]]\n"
          ]
        },
        {
          "output_type": "execute_result",
          "data": {
            "text/plain": [
              "(2, 5)"
            ]
          },
          "metadata": {},
          "execution_count": 6
        }
      ]
    },
    {
      "cell_type": "markdown",
      "source": [
        "Converting np_array as float vallue"
      ],
      "metadata": {
        "id": "--X-elR8rcQX"
      }
    },
    {
      "cell_type": "code",
      "source": [
        "b = np.array([(1,2,3,4,5), (6,7,8,9,10)],dtype=float)\n",
        "print(b)\n",
        "b.shape"
      ],
      "metadata": {
        "colab": {
          "base_uri": "https://localhost:8080/"
        },
        "id": "ncNM-VmgqRpp",
        "outputId": "8bb44da0-803d-40b5-c03a-d379b558e766"
      },
      "execution_count": 7,
      "outputs": [
        {
          "output_type": "stream",
          "name": "stdout",
          "text": [
            "[[ 1.  2.  3.  4.  5.]\n",
            " [ 6.  7.  8.  9. 10.]]\n"
          ]
        },
        {
          "output_type": "execute_result",
          "data": {
            "text/plain": [
              "(2, 5)"
            ]
          },
          "metadata": {},
          "execution_count": 7
        }
      ]
    },
    {
      "cell_type": "code",
      "source": [
        "# create  a array of zeros\n",
        "x = np.zeros((3,4))\n",
        "print(x)\n",
        "# create  a array of ones\n",
        "y = np.ones((3,4))\n",
        "print(y)\n",
        "# create a full array  with a particular value\n",
        "z = np.full((4,5),5)\n",
        "print(z)"
      ],
      "metadata": {
        "colab": {
          "base_uri": "https://localhost:8080/"
        },
        "id": "xpmgO9xYraGx",
        "outputId": "7c70b158-71a2-484c-d002-d35c3f0c06ac"
      },
      "execution_count": 8,
      "outputs": [
        {
          "output_type": "stream",
          "name": "stdout",
          "text": [
            "[[0. 0. 0. 0.]\n",
            " [0. 0. 0. 0.]\n",
            " [0. 0. 0. 0.]]\n",
            "[[1. 1. 1. 1.]\n",
            " [1. 1. 1. 1.]\n",
            " [1. 1. 1. 1.]]\n",
            "[[5 5 5 5 5]\n",
            " [5 5 5 5 5]\n",
            " [5 5 5 5 5]\n",
            " [5 5 5 5 5]]\n"
          ]
        }
      ]
    },
    {
      "cell_type": "code",
      "source": [
        "# Identity Matrix , which has 0 and 1 diagnolly and same rows and cols\n",
        "a = np.eye(4) # 4 rows and 4 columns\n",
        "print(a)"
      ],
      "metadata": {
        "colab": {
          "base_uri": "https://localhost:8080/"
        },
        "id": "himThu4ZtOrT",
        "outputId": "75058b22-1619-4365-db6a-5b33e6556f8d"
      },
      "execution_count": 9,
      "outputs": [
        {
          "output_type": "stream",
          "name": "stdout",
          "text": [
            "[[1. 0. 0. 0.]\n",
            " [0. 1. 0. 0.]\n",
            " [0. 0. 1. 0.]\n",
            " [0. 0. 0. 1.]]\n"
          ]
        }
      ]
    },
    {
      "cell_type": "code",
      "source": [
        "# numpy array with random values\n",
        "a = np.random.random((3,4))\n",
        "print(a)\n",
        "# now only with int\n"
      ],
      "metadata": {
        "colab": {
          "base_uri": "https://localhost:8080/"
        },
        "id": "pBx1vlOhwZ7L",
        "outputId": "792177dd-55a9-4d29-bf28-2f73d996bb2e"
      },
      "execution_count": 12,
      "outputs": [
        {
          "output_type": "stream",
          "name": "stdout",
          "text": [
            "[[0.66547278 0.03593775 0.55663071 0.99249003]\n",
            " [0.77700414 0.0760882  0.36461132 0.22814077]\n",
            " [0.08716037 0.62318642 0.41843207 0.46980696]]\n"
          ]
        }
      ]
    },
    {
      "cell_type": "code",
      "source": [
        "# random integer with specific range\n",
        "c = np.random.randint(10,100,(3,4))\n",
        "print(c)\n",
        "# 1o to 100 is range"
      ],
      "metadata": {
        "colab": {
          "base_uri": "https://localhost:8080/"
        },
        "id": "G91f8GxyxxVT",
        "outputId": "ba92eed2-b1a5-41f4-f639-cf820dd3392c"
      },
      "execution_count": 13,
      "outputs": [
        {
          "output_type": "stream",
          "name": "stdout",
          "text": [
            "[[81 26 74 39]\n",
            " [27 34 76 78]\n",
            " [15 81 29 15]]\n"
          ]
        }
      ]
    },
    {
      "cell_type": "code",
      "source": [
        "# array of evenly spaced (sequence format and gap)\n",
        "d = np.linspace(10,30,4)\n",
        "print(d)\n",
        "# 10 and 30 r start and end value , 5 is no of values\n",
        "# we can also use another method , but differnece mentioned\n",
        "e = np.arange(10,30,9)\n",
        "print(e)\n",
        "# here 5 is sequence order"
      ],
      "metadata": {
        "colab": {
          "base_uri": "https://localhost:8080/"
        },
        "id": "8Smh2Q0i2xpL",
        "outputId": "b413b2ff-0db4-4125-e913-64ab8743cfab"
      },
      "execution_count": 16,
      "outputs": [
        {
          "output_type": "stream",
          "name": "stdout",
          "text": [
            "[10.         16.66666667 23.33333333 30.        ]\n",
            "[10 19 28]\n"
          ]
        }
      ]
    },
    {
      "cell_type": "code",
      "source": [
        "# convert a list to np_array\n",
        "list1 = [1,2,3,4,5]\n",
        "\n",
        "np_array = np.asarray(list1)\n",
        "print(np_array)\n",
        "type(np_array)"
      ],
      "metadata": {
        "colab": {
          "base_uri": "https://localhost:8080/"
        },
        "id": "2RvrOiJ63x-B",
        "outputId": "1fd77a2e-9bfd-4727-a3a4-cab2fc6f8a4f"
      },
      "execution_count": 18,
      "outputs": [
        {
          "output_type": "stream",
          "name": "stdout",
          "text": [
            "[1 2 3 4 5]\n"
          ]
        },
        {
          "output_type": "execute_result",
          "data": {
            "text/plain": [
              "numpy.ndarray"
            ]
          },
          "metadata": {},
          "execution_count": 18
        }
      ]
    },
    {
      "cell_type": "code",
      "source": [
        "# Analysing numpy array\n",
        "c = np.random.randint(10,100,(3,4))\n",
        "print(c)\n",
        "# to find rows and columns\n",
        "c.shape\n"
      ],
      "metadata": {
        "colab": {
          "base_uri": "https://localhost:8080/"
        },
        "id": "H4Bc6GCa6jdd",
        "outputId": "66aa074c-b499-4c21-feb5-ed7fcb520b7d"
      },
      "execution_count": 19,
      "outputs": [
        {
          "output_type": "stream",
          "name": "stdout",
          "text": [
            "[[40 84 40 49]\n",
            " [94 76 53 60]\n",
            " [13 67 57 87]]\n"
          ]
        },
        {
          "output_type": "execute_result",
          "data": {
            "text/plain": [
              "(3, 4)"
            ]
          },
          "metadata": {},
          "execution_count": 19
        }
      ]
    },
    {
      "cell_type": "code",
      "source": [
        "# to find dimension (2d , 1d , or 3d )\n",
        "print(c.ndim)\n",
        "# number of elements in an array ( 3 * 4 total )\n",
        "print(c.size)"
      ],
      "metadata": {
        "colab": {
          "base_uri": "https://localhost:8080/"
        },
        "id": "cp4Ys7K17wJ0",
        "outputId": "c3f0317c-8c51-454c-99d1-f91b5eb4707b"
      },
      "execution_count": 20,
      "outputs": [
        {
          "output_type": "stream",
          "name": "stdout",
          "text": [
            "2\n",
            "12\n"
          ]
        }
      ]
    },
    {
      "cell_type": "code",
      "source": [
        "# checking the data type in array\n",
        "print(c.dtype)"
      ],
      "metadata": {
        "colab": {
          "base_uri": "https://localhost:8080/"
        },
        "id": "kn_y0G1x8Mgh",
        "outputId": "03447503-2d44-4b49-b6a9-12dd047d6433"
      },
      "execution_count": 21,
      "outputs": [
        {
          "output_type": "stream",
          "name": "stdout",
          "text": [
            "int64\n"
          ]
        }
      ]
    },
    {
      "cell_type": "code",
      "source": [
        "# maths operations on np_array\n",
        "# adding lists\n",
        "\n",
        "list1 = [1,2,3,4,5]\n",
        "list2 = [6,7,8,9,10]\n",
        "total = list1 + list2\n",
        "print(total)"
      ],
      "metadata": {
        "colab": {
          "base_uri": "https://localhost:8080/"
        },
        "id": "dUsSaIra9NwD",
        "outputId": "ffe1175e-d1a7-4828-e851-9f497504d07a"
      },
      "execution_count": 22,
      "outputs": [
        {
          "output_type": "stream",
          "name": "stdout",
          "text": [
            "[1, 2, 3, 4, 5, 6, 7, 8, 9, 10]\n"
          ]
        }
      ]
    },
    {
      "cell_type": "code",
      "source": [
        "# but we want to add values , so use in np!\n",
        "\n",
        "c = np.random.randint(10,20,(3,4))\n",
        "\n",
        "d = np.random.randint(30,40,(3,4))\n",
        "\n",
        "print(c,d)\n",
        "print(c + d)\n",
        "print(c - d)\n",
        "print(c * d)\n",
        "print(c / d)"
      ],
      "metadata": {
        "colab": {
          "base_uri": "https://localhost:8080/"
        },
        "id": "a5G4K4_f97xx",
        "outputId": "7feae884-c933-4658-b70d-a1f840de4a59"
      },
      "execution_count": 23,
      "outputs": [
        {
          "output_type": "stream",
          "name": "stdout",
          "text": [
            "[[14 11 15 10]\n",
            " [14 12 15 17]\n",
            " [10 18 14 16]] [[39 39 30 37]\n",
            " [33 32 33 33]\n",
            " [31 39 38 32]]\n",
            "[[53 50 45 47]\n",
            " [47 44 48 50]\n",
            " [41 57 52 48]]\n",
            "[[-25 -28 -15 -27]\n",
            " [-19 -20 -18 -16]\n",
            " [-21 -21 -24 -16]]\n",
            "[[546 429 450 370]\n",
            " [462 384 495 561]\n",
            " [310 702 532 512]]\n",
            "[[0.35897436 0.28205128 0.5        0.27027027]\n",
            " [0.42424242 0.375      0.45454545 0.51515152]\n",
            " [0.32258065 0.46153846 0.36842105 0.5       ]]\n"
          ]
        }
      ]
    },
    {
      "cell_type": "code",
      "source": [
        "# alternate method for  above method\n",
        "\n",
        "print(np.add(c,d))\n",
        "print(np.subtract(c,d))\n",
        "\n",
        "print(np.multiply(c,d))\n",
        "print(np.divide(c,d))"
      ],
      "metadata": {
        "colab": {
          "base_uri": "https://localhost:8080/"
        },
        "id": "4T-O9mz8-BDs",
        "outputId": "893bcd56-55da-4978-d1a0-c4293ecedb07"
      },
      "execution_count": 24,
      "outputs": [
        {
          "output_type": "stream",
          "name": "stdout",
          "text": [
            "[[53 50 45 47]\n",
            " [47 44 48 50]\n",
            " [41 57 52 48]]\n",
            "[[-25 -28 -15 -27]\n",
            " [-19 -20 -18 -16]\n",
            " [-21 -21 -24 -16]]\n",
            "[[546 429 450 370]\n",
            " [462 384 495 561]\n",
            " [310 702 532 512]]\n",
            "[[0.35897436 0.28205128 0.5        0.27027027]\n",
            " [0.42424242 0.375      0.45454545 0.51515152]\n",
            " [0.32258065 0.46153846 0.36842105 0.5       ]]\n"
          ]
        }
      ]
    },
    {
      "cell_type": "code",
      "source": [
        "# array manipulation\n",
        "\n",
        "c = np.random.randint(10,20,(3,4))\n",
        "print(c.shape)"
      ],
      "metadata": {
        "colab": {
          "base_uri": "https://localhost:8080/"
        },
        "id": "QSgLI8Re-4lR",
        "outputId": "a74ff899-70de-4025-bb64-b96cc35588f9"
      },
      "execution_count": 25,
      "outputs": [
        {
          "output_type": "stream",
          "name": "stdout",
          "text": [
            "(3, 4)\n"
          ]
        }
      ]
    },
    {
      "cell_type": "code",
      "source": [
        "# Transpaose  converts (3,4 matrix as ulta)\n",
        "f = np.transpose(c)\n",
        "print(f)\n",
        "print(f.shape)"
      ],
      "metadata": {
        "colab": {
          "base_uri": "https://localhost:8080/"
        },
        "id": "rfkcfHnBAM6g",
        "outputId": "ad981af5-45a0-4428-f0e4-7b9e29c7f277"
      },
      "execution_count": 27,
      "outputs": [
        {
          "output_type": "stream",
          "name": "stdout",
          "text": [
            "[[16 16 19]\n",
            " [12 14 13]\n",
            " [18 10 10]\n",
            " [15 15 18]]\n",
            "(4, 3)\n"
          ]
        }
      ]
    },
    {
      "cell_type": "code",
      "source": [
        "# transposing with another method\n",
        "trans = c.T\n",
        "print(trans.shape)\n"
      ],
      "metadata": {
        "colab": {
          "base_uri": "https://localhost:8080/"
        },
        "id": "dqwCNAAbCBx-",
        "outputId": "d18d268c-f188-4a1c-e3e4-841d1ae4598a"
      },
      "execution_count": null,
      "outputs": [
        {
          "output_type": "stream",
          "name": "stdout",
          "text": [
            "(4, 3)\n"
          ]
        }
      ]
    },
    {
      "cell_type": "code",
      "source": [
        "# to reshape the array\n",
        "rshape = c.reshape(4,3)\n",
        "print(c.shape)"
      ],
      "metadata": {
        "colab": {
          "base_uri": "https://localhost:8080/"
        },
        "id": "39vVBmlxD7xR",
        "outputId": "62e93cb3-8f0d-4732-f90f-f690ec3aa478"
      },
      "execution_count": null,
      "outputs": [
        {
          "output_type": "stream",
          "name": "stdout",
          "text": [
            "(3, 4)\n"
          ]
        }
      ]
    },
    {
      "cell_type": "code",
      "source": [],
      "metadata": {
        "id": "_DehutE5FRcU"
      },
      "execution_count": null,
      "outputs": []
    }
  ]
}