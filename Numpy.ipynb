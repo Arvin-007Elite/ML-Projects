{
  "nbformat": 4,
  "nbformat_minor": 0,
  "metadata": {
    "colab": {
      "provenance": [],
      "authorship_tag": "ABX9TyOrZznsafb23cW83DIMEXUQ",
      "include_colab_link": true
    },
    "kernelspec": {
      "name": "python3",
      "display_name": "Python 3"
    },
    "language_info": {
      "name": "python"
    }
  },
  "cells": [
    {
      "cell_type": "markdown",
      "metadata": {
        "id": "view-in-github",
        "colab_type": "text"
      },
      "source": [
        "<a href=\"https://colab.research.google.com/github/Arvin-007Elite/ML-Projects/blob/master/Numpy.ipynb\" target=\"_parent\"><img src=\"https://colab.research.google.com/assets/colab-badge.svg\" alt=\"Open In Colab\"/></a>"
      ]
    },
    {
      "cell_type": "code",
      "execution_count": 7,
      "metadata": {
        "id": "22WBt4UzkOYP"
      },
      "outputs": [],
      "source": [
        "import numpy as np"
      ]
    },
    {
      "cell_type": "markdown",
      "source": [
        "##Comparing Lists vs NP_Arrays"
      ],
      "metadata": {
        "id": "gClmH2rSkk6v"
      }
    },
    {
      "cell_type": "code",
      "source": [
        "# Lists\n",
        "List1 = [1,2,3,4,5]\n",
        "print(List1)\n",
        "type(List1)"
      ],
      "metadata": {
        "colab": {
          "base_uri": "https://localhost:8080/"
        },
        "id": "XuN_jaVBkbYB",
        "outputId": "f56f7d7c-3735-4843-f532-9b8bd7eb0e67"
      },
      "execution_count": 8,
      "outputs": [
        {
          "output_type": "stream",
          "name": "stdout",
          "text": [
            "[1, 2, 3, 4, 5]\n"
          ]
        },
        {
          "output_type": "execute_result",
          "data": {
            "text/plain": [
              "list"
            ]
          },
          "metadata": {},
          "execution_count": 8
        }
      ]
    },
    {
      "cell_type": "markdown",
      "source": [],
      "metadata": {
        "id": "EACZd9pnkkPp"
      }
    },
    {
      "cell_type": "code",
      "source": [
        "np_array = np.array([1,2,3,4,5])\n",
        "print(np_array)\n",
        "type(np_array)"
      ],
      "metadata": {
        "colab": {
          "base_uri": "https://localhost:8080/"
        },
        "id": "DfzkWjIwk9K_",
        "outputId": "f9c2835f-c313-4b55-d998-00442163d168"
      },
      "execution_count": 10,
      "outputs": [
        {
          "output_type": "stream",
          "name": "stdout",
          "text": [
            "[1 2 3 4 5]\n"
          ]
        },
        {
          "output_type": "execute_result",
          "data": {
            "text/plain": [
              "numpy.ndarray"
            ]
          },
          "metadata": {},
          "execution_count": 10
        }
      ]
    },
    {
      "cell_type": "markdown",
      "source": [
        "#Numpy arrays r faster than Lists\n",
        "Normally lists produces CSV answers\n",
        "but\n",
        "Numpy gives whole number values as answers\n",
        "Even in float !"
      ],
      "metadata": {
        "id": "Tf08WR47lLR_"
      }
    },
    {
      "cell_type": "code",
      "source": [
        "# 1-Dimension\n",
        "a = np.array([1,2,3,4,5])\n",
        "print(a)\n",
        "a.shape"
      ],
      "metadata": {
        "colab": {
          "base_uri": "https://localhost:8080/"
        },
        "id": "VS7IbZyAlHfD",
        "outputId": "995117c6-cff9-4e51-c45f-2eb99015a6ff"
      },
      "execution_count": 11,
      "outputs": [
        {
          "output_type": "stream",
          "name": "stdout",
          "text": [
            "[1 2 3 4 5]\n"
          ]
        },
        {
          "output_type": "execute_result",
          "data": {
            "text/plain": [
              "(5,)"
            ]
          },
          "metadata": {},
          "execution_count": 11
        }
      ]
    },
    {
      "cell_type": "markdown",
      "source": [
        "2 - Dimensions , which displays , rows and columns as values"
      ],
      "metadata": {
        "id": "yWddO7GhqVU4"
      }
    },
    {
      "cell_type": "code",
      "source": [
        "b = np.array([(1,2,3,4,5), (6,7,8,9,10)])\n",
        "print(b)\n",
        "b.shape\n",
        "# with tuples\n",
        "c = np.array([[1,2,3,4,5], [6,7,8,9,10]])\n",
        "c\n",
        "# with lists"
      ],
      "metadata": {
        "colab": {
          "base_uri": "https://localhost:8080/"
        },
        "id": "R6XZiIwIpHAs",
        "outputId": "4367b355-a15b-4698-db6d-3fbef249dd2e"
      },
      "execution_count": 6,
      "outputs": [
        {
          "output_type": "stream",
          "name": "stdout",
          "text": [
            "[[ 1  2  3  4  5]\n",
            " [ 6  7  8  9 10]]\n"
          ]
        },
        {
          "output_type": "execute_result",
          "data": {
            "text/plain": [
              "array([[ 1,  2,  3,  4,  5],\n",
              "       [ 6,  7,  8,  9, 10]])"
            ]
          },
          "metadata": {},
          "execution_count": 6
        }
      ]
    },
    {
      "cell_type": "markdown",
      "source": [
        "Converting np_array as float vallue"
      ],
      "metadata": {
        "id": "--X-elR8rcQX"
      }
    },
    {
      "cell_type": "code",
      "source": [
        "b = np.array([(1,2,3,4,5), (6,7,8,9,10)],dtype=float)\n",
        "print(b)\n",
        "b.shape"
      ],
      "metadata": {
        "colab": {
          "base_uri": "https://localhost:8080/"
        },
        "id": "ncNM-VmgqRpp",
        "outputId": "b996b550-40e9-4ef4-9c84-394b73cb2919"
      },
      "execution_count": 12,
      "outputs": [
        {
          "output_type": "stream",
          "name": "stdout",
          "text": [
            "[[ 1.  2.  3.  4.  5.]\n",
            " [ 6.  7.  8.  9. 10.]]\n"
          ]
        },
        {
          "output_type": "execute_result",
          "data": {
            "text/plain": [
              "(2, 5)"
            ]
          },
          "metadata": {},
          "execution_count": 12
        }
      ]
    },
    {
      "cell_type": "code",
      "source": [
        "# create  a array of zeros\n",
        "x = np.zeros((3,4))\n",
        "print(x)\n",
        "# create  a array of ones\n",
        "y = np.ones((3,4))\n",
        "print(y)\n",
        "# create a full array  with a particular value\n",
        "z = np.full((4,5),5)\n",
        "print(z)"
      ],
      "metadata": {
        "colab": {
          "base_uri": "https://localhost:8080/"
        },
        "id": "xpmgO9xYraGx",
        "outputId": "21f95612-26c3-4f86-d4c3-d52893783c24"
      },
      "execution_count": 15,
      "outputs": [
        {
          "output_type": "stream",
          "name": "stdout",
          "text": [
            "[[0. 0. 0. 0.]\n",
            " [0. 0. 0. 0.]\n",
            " [0. 0. 0. 0.]]\n",
            "[[1. 1. 1. 1.]\n",
            " [1. 1. 1. 1.]\n",
            " [1. 1. 1. 1.]]\n",
            "[[5 5 5 5 5]\n",
            " [5 5 5 5 5]\n",
            " [5 5 5 5 5]\n",
            " [5 5 5 5 5]]\n"
          ]
        }
      ]
    },
    {
      "cell_type": "code",
      "source": [
        "# Identity Matrix , which has 0 and 1 diagnolly and same rows and cols\n",
        "a = np.eye(4) # 4 rows and 4 columns\n",
        "print(a)"
      ],
      "metadata": {
        "colab": {
          "base_uri": "https://localhost:8080/"
        },
        "id": "himThu4ZtOrT",
        "outputId": "0172e22b-cc2b-4db6-99d2-713345ff4b77"
      },
      "execution_count": 16,
      "outputs": [
        {
          "output_type": "stream",
          "name": "stdout",
          "text": [
            "[[1. 0. 0. 0.]\n",
            " [0. 1. 0. 0.]\n",
            " [0. 0. 1. 0.]\n",
            " [0. 0. 0. 1.]]\n"
          ]
        }
      ]
    },
    {
      "cell_type": "code",
      "source": [
        "# numpy array with random values\n",
        "a = np.random.random((3,4))\n",
        "print(a)\n",
        "# now only with int\n"
      ],
      "metadata": {
        "colab": {
          "base_uri": "https://localhost:8080/"
        },
        "id": "pBx1vlOhwZ7L",
        "outputId": "1b5676ac-9136-46d5-93d6-2d0dfc558df0"
      },
      "execution_count": 17,
      "outputs": [
        {
          "output_type": "stream",
          "name": "stdout",
          "text": [
            "[[0.88697632 0.49858933 0.27822846 0.89197641]\n",
            " [0.00301691 0.45914635 0.10693788 0.4158475 ]\n",
            " [0.14733123 0.75553713 0.11851819 0.60399125]]\n"
          ]
        }
      ]
    },
    {
      "cell_type": "code",
      "source": [
        "# random integer with specific range\n",
        "c = np.random.randint(10,100,(3,4))\n",
        "print(c)\n",
        "# 1o to 100 is range"
      ],
      "metadata": {
        "colab": {
          "base_uri": "https://localhost:8080/"
        },
        "id": "G91f8GxyxxVT",
        "outputId": "b9920666-d387-481e-f238-0e3f41f4e89a"
      },
      "execution_count": 18,
      "outputs": [
        {
          "output_type": "stream",
          "name": "stdout",
          "text": [
            "[[68 27 67 22]\n",
            " [17 30 70 86]\n",
            " [50 13 77 97]]\n"
          ]
        }
      ]
    },
    {
      "cell_type": "code",
      "source": [
        "# array of evenly spaced (sequence format and gap)\n",
        "d = np.linspace(10,30,4)\n",
        "print(d)\n",
        "# 10 and 30 r start and end value , 5 is no of values\n",
        "# we can also use another method , but differnece mentioned\n",
        "e = np.arange(10,30,9)\n",
        "print(e)\n",
        "# here 5 is sequence order\n",
        "# e.shape\n",
        "#reshapeing a matrix wth shape method itslef!\n",
        "e.shape = (1,3)\n",
        "e.shape\n"
      ],
      "metadata": {
        "colab": {
          "base_uri": "https://localhost:8080/"
        },
        "id": "8Smh2Q0i2xpL",
        "outputId": "845c816e-d846-49b2-a04e-98bc00707fd9"
      },
      "execution_count": 28,
      "outputs": [
        {
          "output_type": "stream",
          "name": "stdout",
          "text": [
            "[10.         16.66666667 23.33333333 30.        ]\n",
            "[10 19 28]\n"
          ]
        },
        {
          "output_type": "execute_result",
          "data": {
            "text/plain": [
              "(1, 3)"
            ]
          },
          "metadata": {},
          "execution_count": 28
        }
      ]
    },
    {
      "cell_type": "code",
      "source": [
        "# convert a list to np_array\n",
        "list1 = [1,2,3,4,5]\n",
        "\n",
        "np_array = np.asarray(list1)\n",
        "print(np_array)\n",
        "type(np_array)"
      ],
      "metadata": {
        "colab": {
          "base_uri": "https://localhost:8080/"
        },
        "id": "2RvrOiJ63x-B",
        "outputId": "f840a80e-7579-4c03-b272-4409fdea0b24"
      },
      "execution_count": 29,
      "outputs": [
        {
          "output_type": "stream",
          "name": "stdout",
          "text": [
            "[1 2 3 4 5]\n"
          ]
        },
        {
          "output_type": "execute_result",
          "data": {
            "text/plain": [
              "numpy.ndarray"
            ]
          },
          "metadata": {},
          "execution_count": 29
        }
      ]
    },
    {
      "cell_type": "code",
      "source": [
        "# Analysing numpy array\n",
        "c = np.random.randint(10,100,(3,4))\n",
        "print(c)\n",
        "# to find rows and columns\n",
        "c.shape\n"
      ],
      "metadata": {
        "colab": {
          "base_uri": "https://localhost:8080/"
        },
        "id": "H4Bc6GCa6jdd",
        "outputId": "d2e61f80-04bf-46a9-ea74-28bbeddab4c7"
      },
      "execution_count": 30,
      "outputs": [
        {
          "output_type": "stream",
          "name": "stdout",
          "text": [
            "[[11 79 49 53]\n",
            " [24 30 20 53]\n",
            " [56 72 97 30]]\n"
          ]
        },
        {
          "output_type": "execute_result",
          "data": {
            "text/plain": [
              "(3, 4)"
            ]
          },
          "metadata": {},
          "execution_count": 30
        }
      ]
    },
    {
      "cell_type": "code",
      "source": [
        "# to find dimension (2d , 1d , or 3d )\n",
        "print(c.ndim)\n",
        "# number of elements in an array ( 3 * 4 total )\n",
        "print(c.size)"
      ],
      "metadata": {
        "colab": {
          "base_uri": "https://localhost:8080/"
        },
        "id": "cp4Ys7K17wJ0",
        "outputId": "2daf0a88-e48f-4778-df40-81ddd4aba435"
      },
      "execution_count": 31,
      "outputs": [
        {
          "output_type": "stream",
          "name": "stdout",
          "text": [
            "2\n",
            "12\n"
          ]
        }
      ]
    },
    {
      "cell_type": "code",
      "source": [
        "# checking the data type in array\n",
        "print(c.dtype)"
      ],
      "metadata": {
        "colab": {
          "base_uri": "https://localhost:8080/"
        },
        "id": "kn_y0G1x8Mgh",
        "outputId": "b93a5316-31d6-4468-992d-0a3c21991798"
      },
      "execution_count": 32,
      "outputs": [
        {
          "output_type": "stream",
          "name": "stdout",
          "text": [
            "int64\n"
          ]
        }
      ]
    },
    {
      "cell_type": "code",
      "source": [
        "# maths operations on np_array\n",
        "# adding lists\n",
        "\n",
        "list1 = [1,2,3,4,5]\n",
        "list2 = [6,7,8,9,10]\n",
        "total = list1 + list2\n",
        "print(total)"
      ],
      "metadata": {
        "colab": {
          "base_uri": "https://localhost:8080/"
        },
        "id": "dUsSaIra9NwD",
        "outputId": "c9af6e47-f1d7-47a3-919c-e9a1f01aa055"
      },
      "execution_count": 33,
      "outputs": [
        {
          "output_type": "stream",
          "name": "stdout",
          "text": [
            "[1, 2, 3, 4, 5, 6, 7, 8, 9, 10]\n"
          ]
        }
      ]
    },
    {
      "cell_type": "code",
      "source": [
        "# but we want to add values , so use in np!\n",
        "\n",
        "c = np.random.randint(10,20,(3,4))\n",
        "\n",
        "d = np.random.randint(30,40,(3,4))\n",
        "\n",
        "print(c,d)\n",
        "print(c + d)\n",
        "print(c - d)\n",
        "print(c * d)\n",
        "print(c / d)"
      ],
      "metadata": {
        "colab": {
          "base_uri": "https://localhost:8080/"
        },
        "id": "a5G4K4_f97xx",
        "outputId": "752b12d6-d6ce-4a26-e1fc-e74f3c77b635"
      },
      "execution_count": 34,
      "outputs": [
        {
          "output_type": "stream",
          "name": "stdout",
          "text": [
            "[[11 18 15 16]\n",
            " [10 18 14 15]\n",
            " [14 13 10 17]] [[39 39 33 30]\n",
            " [30 34 34 30]\n",
            " [34 38 37 36]]\n",
            "[[50 57 48 46]\n",
            " [40 52 48 45]\n",
            " [48 51 47 53]]\n",
            "[[-28 -21 -18 -14]\n",
            " [-20 -16 -20 -15]\n",
            " [-20 -25 -27 -19]]\n",
            "[[429 702 495 480]\n",
            " [300 612 476 450]\n",
            " [476 494 370 612]]\n",
            "[[0.28205128 0.46153846 0.45454545 0.53333333]\n",
            " [0.33333333 0.52941176 0.41176471 0.5       ]\n",
            " [0.41176471 0.34210526 0.27027027 0.47222222]]\n"
          ]
        }
      ]
    },
    {
      "cell_type": "code",
      "source": [
        "# alternate method for  above method\n",
        "\n",
        "print(np.add(c,d))\n",
        "\n",
        "print(np.subtract(c,d))\n",
        "\n",
        "print(np.multiply(c,d))\n",
        "print(np.divide(c,d))"
      ],
      "metadata": {
        "colab": {
          "base_uri": "https://localhost:8080/"
        },
        "id": "4T-O9mz8-BDs",
        "outputId": "7953c922-cba7-4e8c-e03b-ecfe606b393d"
      },
      "execution_count": 68,
      "outputs": [
        {
          "output_type": "stream",
          "name": "stdout",
          "text": [
            "[[56 55 51 47]\n",
            " [45 53 44 40]\n",
            " [48 51 55 51]]\n",
            "[[-22 -23 -15 -13]\n",
            " [-15 -15 -24 -20]\n",
            " [-20 -25 -19 -21]]\n",
            "[[663 624 594 510]\n",
            " [450 646 340 300]\n",
            " [476 494 666 540]]\n",
            "[[0.43589744 0.41025641 0.54545455 0.56666667]\n",
            " [0.5        0.55882353 0.29411765 0.33333333]\n",
            " [0.41176471 0.34210526 0.48648649 0.41666667]]\n"
          ]
        }
      ]
    },
    {
      "cell_type": "code",
      "source": [
        "# array manipulation\n",
        "\n",
        "c = np.random.randint(10,20,(3,4))\n",
        "print(c.shape)"
      ],
      "metadata": {
        "colab": {
          "base_uri": "https://localhost:8080/"
        },
        "id": "QSgLI8Re-4lR",
        "outputId": "44649de1-8efe-4228-b95b-dd06a24b5f37"
      },
      "execution_count": 36,
      "outputs": [
        {
          "output_type": "stream",
          "name": "stdout",
          "text": [
            "(3, 4)\n"
          ]
        }
      ]
    },
    {
      "cell_type": "code",
      "source": [
        "# Transpaose  converts (3,4 matrix as ulta)\n",
        "f = np.transpose(c)\n",
        "print(f)\n",
        "print(f.shape)"
      ],
      "metadata": {
        "colab": {
          "base_uri": "https://localhost:8080/"
        },
        "id": "rfkcfHnBAM6g",
        "outputId": "74edfd55-765a-42e5-b6a5-138f16f8d56d"
      },
      "execution_count": 37,
      "outputs": [
        {
          "output_type": "stream",
          "name": "stdout",
          "text": [
            "[[17 15 14]\n",
            " [16 19 13]\n",
            " [18 10 18]\n",
            " [17 10 15]]\n",
            "(4, 3)\n"
          ]
        }
      ]
    },
    {
      "cell_type": "code",
      "source": [
        "\n",
        "# transposing with another method\n",
        "trans = c.T\n",
        "print(trans.shape)\n"
      ],
      "metadata": {
        "colab": {
          "base_uri": "https://localhost:8080/"
        },
        "id": "dqwCNAAbCBx-",
        "outputId": "9d07337c-4411-4f7c-96b1-a1c5d1777320"
      },
      "execution_count": 38,
      "outputs": [
        {
          "output_type": "stream",
          "name": "stdout",
          "text": [
            "(4, 3)\n"
          ]
        }
      ]
    },
    {
      "cell_type": "code",
      "source": [
        "# to reshape the array\n",
        "rshape = c.reshape(4,3)\n",
        "print(c.shape)"
      ],
      "metadata": {
        "colab": {
          "base_uri": "https://localhost:8080/"
        },
        "id": "39vVBmlxD7xR",
        "outputId": "9d7da1a8-97a5-42f2-f1d4-59b68bf774dd"
      },
      "execution_count": 39,
      "outputs": [
        {
          "output_type": "stream",
          "name": "stdout",
          "text": [
            "(3, 4)\n"
          ]
        }
      ]
    },
    {
      "cell_type": "code",
      "source": [
        "n1 = np.array([10,20,30])\n",
        "n2 = np.array([40,50,60])\n",
        "np.vstack((n1,n2))\n"
      ],
      "metadata": {
        "id": "_DehutE5FRcU",
        "colab": {
          "base_uri": "https://localhost:8080/"
        },
        "outputId": "15341866-aaa8-458d-e6cc-64c800f31d05"
      },
      "execution_count": 57,
      "outputs": [
        {
          "output_type": "execute_result",
          "data": {
            "text/plain": [
              "array([[10, 20, 30],\n",
              "       [40, 50, 60]])"
            ]
          },
          "metadata": {},
          "execution_count": 57
        }
      ]
    },
    {
      "cell_type": "code",
      "source": [
        "np.vstack((n2,n1))"
      ],
      "metadata": {
        "colab": {
          "base_uri": "https://localhost:8080/"
        },
        "id": "OFsXDBwHnBHb",
        "outputId": "7b5c685c-67b9-4a25-f571-f722dcb02ca6"
      },
      "execution_count": 58,
      "outputs": [
        {
          "output_type": "execute_result",
          "data": {
            "text/plain": [
              "array([[40, 50, 60],\n",
              "       [10, 20, 30]])"
            ]
          },
          "metadata": {},
          "execution_count": 58
        }
      ]
    },
    {
      "cell_type": "code",
      "source": [
        "np.hstack((n1,n2))"
      ],
      "metadata": {
        "colab": {
          "base_uri": "https://localhost:8080/"
        },
        "id": "gjwGCUB1nMSI",
        "outputId": "412d4179-d594-45be-a915-57a986beccee"
      },
      "execution_count": 59,
      "outputs": [
        {
          "output_type": "execute_result",
          "data": {
            "text/plain": [
              "array([10, 20, 30, 40, 50, 60])"
            ]
          },
          "metadata": {},
          "execution_count": 59
        }
      ]
    },
    {
      "cell_type": "code",
      "source": [
        "np.column_stack((n1,n2))"
      ],
      "metadata": {
        "colab": {
          "base_uri": "https://localhost:8080/"
        },
        "id": "jpnwhvkfnTc-",
        "outputId": "6725658e-c92d-4bc8-fcb9-6bbe2f8fa9dc"
      },
      "execution_count": 60,
      "outputs": [
        {
          "output_type": "execute_result",
          "data": {
            "text/plain": [
              "array([[10, 40],\n",
              "       [20, 50],\n",
              "       [30, 60]])"
            ]
          },
          "metadata": {},
          "execution_count": 60
        }
      ]
    },
    {
      "cell_type": "code",
      "source": [
        "n1 = np.array([10,20,30,40,50,60])\n",
        "n2 = np.array([50,60,70,80,90])"
      ],
      "metadata": {
        "id": "SlMzG9BfpTXl"
      },
      "execution_count": 62,
      "outputs": []
    },
    {
      "cell_type": "code",
      "source": [
        "np.intersect1d(n1,n2)\n",
        "# common elements"
      ],
      "metadata": {
        "colab": {
          "base_uri": "https://localhost:8080/"
        },
        "id": "ZYeiBWoQnXm_",
        "outputId": "940a4f67-ded2-4a05-aac7-a4edb5fa04eb"
      },
      "execution_count": 67,
      "outputs": [
        {
          "output_type": "execute_result",
          "data": {
            "text/plain": [
              "array([50, 60])"
            ]
          },
          "metadata": {},
          "execution_count": 67
        }
      ]
    },
    {
      "cell_type": "code",
      "source": [
        "np.setdiff1d(n1,n2)\n",
        "#unique values of 1st set"
      ],
      "metadata": {
        "colab": {
          "base_uri": "https://localhost:8080/"
        },
        "id": "8tOpZPReoOJo",
        "outputId": "dacd7836-1404-4829-f9a3-29abf7e435d5"
      },
      "execution_count": 66,
      "outputs": [
        {
          "output_type": "execute_result",
          "data": {
            "text/plain": [
              "array([10, 20, 30, 40])"
            ]
          },
          "metadata": {},
          "execution_count": 66
        }
      ]
    },
    {
      "cell_type": "code",
      "source": [
        "# np array arithmetics\n",
        "n1 = np.array([10,20])\n",
        "n2 = np.array([30,40])\n",
        "np.sum([n1,n2])\n",
        "# 10+20+40+30"
      ],
      "metadata": {
        "colab": {
          "base_uri": "https://localhost:8080/"
        },
        "id": "Dg1Ni-G-ohli",
        "outputId": "518686da-546e-454f-f719-08e04e666656"
      },
      "execution_count": 71,
      "outputs": [
        {
          "output_type": "execute_result",
          "data": {
            "text/plain": [
              "100"
            ]
          },
          "metadata": {},
          "execution_count": 71
        }
      ]
    },
    {
      "cell_type": "code",
      "source": [
        "n1 = np.array([10,20])\n",
        "n2 = np.array([30,40])\n",
        "np.sum([n1,n2] , axis =0)\n",
        "# 10 + 30 , 20+ 40"
      ],
      "metadata": {
        "id": "_h_ZrwrXqOkY",
        "outputId": "a93ee04c-8631-4a82-c47d-df1c186feb28",
        "colab": {
          "base_uri": "https://localhost:8080/"
        }
      },
      "execution_count": 72,
      "outputs": [
        {
          "output_type": "execute_result",
          "data": {
            "text/plain": [
              "array([40, 60])"
            ]
          },
          "metadata": {},
          "execution_count": 72
        }
      ]
    },
    {
      "cell_type": "code",
      "source": [
        "n1 = np.array([10,20])\n",
        "n2 = np.array([30,40])\n",
        "np.sum([n1,n2], axis=1)\n",
        "# 10 + 20 , 30 + 40"
      ],
      "metadata": {
        "id": "cyO395llqh0Y",
        "outputId": "eb9f9e43-b026-49bb-8f4e-d971a6550028",
        "colab": {
          "base_uri": "https://localhost:8080/"
        }
      },
      "execution_count": 74,
      "outputs": [
        {
          "output_type": "execute_result",
          "data": {
            "text/plain": [
              "array([30, 70])"
            ]
          },
          "metadata": {},
          "execution_count": 74
        }
      ]
    },
    {
      "cell_type": "code",
      "source": [
        "n3 = n1 + 1\n",
        "n3\n",
        "# add 1 with every element\n",
        "# same for - , * , /"
      ],
      "metadata": {
        "id": "HXQ3SY7kqn-q",
        "outputId": "d8a37722-cf9f-4b38-84a2-e83c7ad693a0",
        "colab": {
          "base_uri": "https://localhost:8080/"
        }
      },
      "execution_count": 76,
      "outputs": [
        {
          "output_type": "execute_result",
          "data": {
            "text/plain": [
              "array([11, 21])"
            ]
          },
          "metadata": {},
          "execution_count": 76
        }
      ]
    },
    {
      "cell_type": "code",
      "source": [
        "np.mean(n1)"
      ],
      "metadata": {
        "id": "WRI8l7d9sLsG",
        "outputId": "193183f5-1a71-464e-e475-266b3bcee97c",
        "colab": {
          "base_uri": "https://localhost:8080/"
        }
      },
      "execution_count": 77,
      "outputs": [
        {
          "output_type": "execute_result",
          "data": {
            "text/plain": [
              "15.0"
            ]
          },
          "metadata": {},
          "execution_count": 77
        }
      ]
    },
    {
      "cell_type": "code",
      "source": [
        "np.median(n1)"
      ],
      "metadata": {
        "id": "z2ZgFucFwTF4",
        "outputId": "e6924f0d-05f3-4068-b6ac-4f085ec8dedf",
        "colab": {
          "base_uri": "https://localhost:8080/"
        }
      },
      "execution_count": 78,
      "outputs": [
        {
          "output_type": "execute_result",
          "data": {
            "text/plain": [
              "15.0"
            ]
          },
          "metadata": {},
          "execution_count": 78
        }
      ]
    },
    {
      "cell_type": "code",
      "source": [
        "np.std(n1)"
      ],
      "metadata": {
        "id": "VK5fLyrCwXGN",
        "outputId": "cd51ec57-7699-45e9-d8e4-67817de6280a",
        "colab": {
          "base_uri": "https://localhost:8080/"
        }
      },
      "execution_count": 79,
      "outputs": [
        {
          "output_type": "execute_result",
          "data": {
            "text/plain": [
              "5.0"
            ]
          },
          "metadata": {},
          "execution_count": 79
        }
      ]
    },
    {
      "cell_type": "code",
      "source": [
        "n1 = np.array([(10,20,30) , (40,50,60), (70,80,90)])\n",
        "n1\n",
        "n1[0]\n",
        "# row wise\n"
      ],
      "metadata": {
        "id": "HymUdtInwY86",
        "outputId": "f6c421c3-f581-4c7b-d86e-8ad0768e003a",
        "colab": {
          "base_uri": "https://localhost:8080/"
        }
      },
      "execution_count": 85,
      "outputs": [
        {
          "output_type": "execute_result",
          "data": {
            "text/plain": [
              "array([[10, 20, 30]])"
            ]
          },
          "metadata": {},
          "execution_count": 85
        }
      ]
    },
    {
      "cell_type": "code",
      "source": [
        "n1[:,1]\n",
        "# col wise"
      ],
      "metadata": {
        "id": "nX-c1IgHxKSS",
        "outputId": "5b7ce5ce-83ef-4f19-9f14-bef117dc786e",
        "colab": {
          "base_uri": "https://localhost:8080/"
        }
      },
      "execution_count": 87,
      "outputs": [
        {
          "output_type": "execute_result",
          "data": {
            "text/plain": [
              "array([20, 50, 80])"
            ]
          },
          "metadata": {},
          "execution_count": 87
        }
      ]
    },
    {
      "cell_type": "code",
      "source": [
        "# matrix multilication\n",
        "n1 = np.array([(10,20,30) , (40,50,60), (70,80,90)])\n",
        "n2 = np.array([(10,20,30) , (40,50,60), (70,80,90)])\n",
        "n1.dot(n2)"
      ],
      "metadata": {
        "id": "dLpxkHh9xe6N",
        "outputId": "9f02d38b-89a1-4dca-b8e0-4bc268eda991",
        "colab": {
          "base_uri": "https://localhost:8080/"
        }
      },
      "execution_count": 88,
      "outputs": [
        {
          "output_type": "execute_result",
          "data": {
            "text/plain": [
              "array([[ 3000,  3600,  4200],\n",
              "       [ 6600,  8100,  9600],\n",
              "       [10200, 12600, 15000]])"
            ]
          },
          "metadata": {},
          "execution_count": 88
        }
      ]
    },
    {
      "cell_type": "code",
      "source": [
        "n1 = np.array([10,20,30,40,50,60])\n",
        "np.save('sv_arr' , n1)"
      ],
      "metadata": {
        "id": "nBpDx0wFyP9p"
      },
      "execution_count": 89,
      "outputs": []
    },
    {
      "cell_type": "code",
      "source": [
        "n2 = np.load('sv_arr.npy')\n",
        "n2"
      ],
      "metadata": {
        "id": "JSf8v11xzLvx",
        "outputId": "89558b12-eb62-4834-b163-4258a48b3fdd",
        "colab": {
          "base_uri": "https://localhost:8080/"
        }
      },
      "execution_count": 91,
      "outputs": [
        {
          "output_type": "execute_result",
          "data": {
            "text/plain": [
              "array([10, 20, 30, 40, 50, 60])"
            ]
          },
          "metadata": {},
          "execution_count": 91
        }
      ]
    },
    {
      "cell_type": "code",
      "source": [],
      "metadata": {
        "id": "oDfHHSDCzW4j"
      },
      "execution_count": null,
      "outputs": []
    }
  ]
}