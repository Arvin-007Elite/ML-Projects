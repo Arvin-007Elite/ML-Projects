{
  "nbformat": 4,
  "nbformat_minor": 0,
  "metadata": {
    "colab": {
      "provenance": [],
      "authorship_tag": "ABX9TyMltmg3YGrUdH75WpEQkhgX",
      "include_colab_link": true
    },
    "kernelspec": {
      "name": "python3",
      "display_name": "Python 3"
    },
    "language_info": {
      "name": "python"
    }
  },
  "cells": [
    {
      "cell_type": "markdown",
      "metadata": {
        "id": "view-in-github",
        "colab_type": "text"
      },
      "source": [
        "<a href=\"https://colab.research.google.com/github/Arvin-007Elite/PYTHON/blob/master/Numpy.ipynb\" target=\"_parent\"><img src=\"https://colab.research.google.com/assets/colab-badge.svg\" alt=\"Open In Colab\"/></a>"
      ]
    },
    {
      "cell_type": "code",
      "execution_count": null,
      "metadata": {
        "id": "22WBt4UzkOYP"
      },
      "outputs": [],
      "source": [
        "import numpy as np"
      ]
    },
    {
      "cell_type": "markdown",
      "source": [
        "##Comparing Lists vs NP_Arrays"
      ],
      "metadata": {
        "id": "gClmH2rSkk6v"
      }
    },
    {
      "cell_type": "code",
      "source": [
        "# Lists\n",
        "List1 = [1,2,3,4,5]\n",
        "print(List1)\n",
        "type(List1)"
      ],
      "metadata": {
        "colab": {
          "base_uri": "https://localhost:8080/"
        },
        "id": "XuN_jaVBkbYB",
        "outputId": "e5514f51-485a-4699-9645-597066f2bcb6"
      },
      "execution_count": null,
      "outputs": [
        {
          "output_type": "stream",
          "name": "stdout",
          "text": [
            "[1, 2, 3, 4, 5]\n"
          ]
        },
        {
          "output_type": "execute_result",
          "data": {
            "text/plain": [
              "list"
            ]
          },
          "metadata": {},
          "execution_count": 2
        }
      ]
    },
    {
      "cell_type": "markdown",
      "source": [],
      "metadata": {
        "id": "EACZd9pnkkPp"
      }
    },
    {
      "cell_type": "code",
      "source": [
        "np_array = np.array([1,2,3,4,5])\n",
        "print(np_array)\n",
        "type(np_array)"
      ],
      "metadata": {
        "colab": {
          "base_uri": "https://localhost:8080/"
        },
        "id": "DfzkWjIwk9K_",
        "outputId": "f4d39ce5-139b-4f1e-976f-e29ca3d07c80"
      },
      "execution_count": null,
      "outputs": [
        {
          "output_type": "stream",
          "name": "stdout",
          "text": [
            "[1 2 3 4 5]\n"
          ]
        },
        {
          "output_type": "execute_result",
          "data": {
            "text/plain": [
              "numpy.ndarray"
            ]
          },
          "metadata": {},
          "execution_count": 3
        }
      ]
    },
    {
      "cell_type": "markdown",
      "source": [
        "#Numpy arrays r faster than Lists\n",
        "Normally lists produces CSV answers\n",
        "but\n",
        "Numpy gives whole number values as answers\n",
        "Even in float !"
      ],
      "metadata": {
        "id": "Tf08WR47lLR_"
      }
    },
    {
      "cell_type": "code",
      "source": [
        "# 1-Dimension\n",
        "a = np.array([1,2,3,4,5])\n",
        "print(a)\n",
        "a.shape"
      ],
      "metadata": {
        "colab": {
          "base_uri": "https://localhost:8080/"
        },
        "id": "VS7IbZyAlHfD",
        "outputId": "4188b7ae-162b-4244-eab5-4bfc605e184c"
      },
      "execution_count": null,
      "outputs": [
        {
          "output_type": "stream",
          "name": "stdout",
          "text": [
            "[1 2 3 4 5]\n"
          ]
        },
        {
          "output_type": "execute_result",
          "data": {
            "text/plain": [
              "(5,)"
            ]
          },
          "metadata": {},
          "execution_count": 4
        }
      ]
    },
    {
      "cell_type": "markdown",
      "source": [
        "2 - Dimensions , which displays , rows and columns as values"
      ],
      "metadata": {
        "id": "yWddO7GhqVU4"
      }
    },
    {
      "cell_type": "code",
      "source": [
        "b = np.array([(1,2,3,4,5), (6,7,8,9,10)])\n",
        "print(b)\n",
        "b.shape"
      ],
      "metadata": {
        "colab": {
          "base_uri": "https://localhost:8080/"
        },
        "id": "R6XZiIwIpHAs",
        "outputId": "d88bd27b-e8dd-4942-e006-30cbefb84793"
      },
      "execution_count": null,
      "outputs": [
        {
          "output_type": "stream",
          "name": "stdout",
          "text": [
            "[[ 1  2  3  4  5]\n",
            " [ 6  7  8  9 10]]\n"
          ]
        },
        {
          "output_type": "execute_result",
          "data": {
            "text/plain": [
              "(2, 5)"
            ]
          },
          "metadata": {},
          "execution_count": 5
        }
      ]
    },
    {
      "cell_type": "markdown",
      "source": [
        "Converting np_array as float vallue"
      ],
      "metadata": {
        "id": "--X-elR8rcQX"
      }
    },
    {
      "cell_type": "code",
      "source": [
        "b = np.array([(1,2,3,4,5), (6,7,8,9,10)],dtype=float)\n",
        "print(b)\n",
        "b.shape"
      ],
      "metadata": {
        "colab": {
          "base_uri": "https://localhost:8080/"
        },
        "id": "ncNM-VmgqRpp",
        "outputId": "5922a89b-21d6-41b0-d96f-7fc08198432d"
      },
      "execution_count": null,
      "outputs": [
        {
          "output_type": "stream",
          "name": "stdout",
          "text": [
            "[[ 1.  2.  3.  4.  5.]\n",
            " [ 6.  7.  8.  9. 10.]]\n"
          ]
        },
        {
          "output_type": "execute_result",
          "data": {
            "text/plain": [
              "(2, 5)"
            ]
          },
          "metadata": {},
          "execution_count": 6
        }
      ]
    },
    {
      "cell_type": "code",
      "source": [
        "# create  a array of zeros\n",
        "x = np.zeros((3,4))\n",
        "print(x)\n",
        "# create  a array of ones\n",
        "y = np.ones((3,4))\n",
        "print(y)\n",
        "# create a full array  with a particular value\n",
        "z = np.full((4,5),5)\n",
        "print(z)"
      ],
      "metadata": {
        "colab": {
          "base_uri": "https://localhost:8080/"
        },
        "id": "xpmgO9xYraGx",
        "outputId": "583a1dcf-a2bc-4c82-f777-331cfa326669"
      },
      "execution_count": null,
      "outputs": [
        {
          "output_type": "stream",
          "name": "stdout",
          "text": [
            "[[0. 0. 0. 0.]\n",
            " [0. 0. 0. 0.]\n",
            " [0. 0. 0. 0.]]\n",
            "[[1. 1. 1. 1.]\n",
            " [1. 1. 1. 1.]\n",
            " [1. 1. 1. 1.]]\n",
            "[[5 5 5 5 5]\n",
            " [5 5 5 5 5]\n",
            " [5 5 5 5 5]\n",
            " [5 5 5 5 5]]\n"
          ]
        }
      ]
    },
    {
      "cell_type": "code",
      "source": [
        "# Identity Matrix , which has 0 and 1 diagnolly and same rows and cols\n",
        "a = np.eye(4) # 4 rows and 4 columns\n",
        "print(a)"
      ],
      "metadata": {
        "colab": {
          "base_uri": "https://localhost:8080/"
        },
        "id": "himThu4ZtOrT",
        "outputId": "b6386b9c-9848-481e-bbec-82d9921b17ff"
      },
      "execution_count": null,
      "outputs": [
        {
          "output_type": "stream",
          "name": "stdout",
          "text": [
            "[[1. 0. 0. 0.]\n",
            " [0. 1. 0. 0.]\n",
            " [0. 0. 1. 0.]\n",
            " [0. 0. 0. 1.]]\n"
          ]
        }
      ]
    },
    {
      "cell_type": "code",
      "source": [
        "# numpy array with random values\n",
        "a = np.random.random((3,4))\n",
        "print(a)\n",
        "# now only with int\n",
        "b = np.random.randint((10,100))"
      ],
      "metadata": {
        "colab": {
          "base_uri": "https://localhost:8080/"
        },
        "id": "pBx1vlOhwZ7L",
        "outputId": "921be3d7-7d5f-4121-8c8f-6e776201a3f0"
      },
      "execution_count": null,
      "outputs": [
        {
          "output_type": "stream",
          "name": "stdout",
          "text": [
            "[[0.33958053 0.12202047 0.19105168 0.62294133]\n",
            " [0.04449002 0.61613621 0.43449398 0.82087354]\n",
            " [0.28921241 0.10733003 0.83787861 0.02431845]]\n"
          ]
        }
      ]
    },
    {
      "cell_type": "code",
      "source": [
        "# random integer with specific range\n",
        "c = np.random.randint(10,100,(3,4))\n",
        "print(c)\n",
        "# 1o to 100 is range"
      ],
      "metadata": {
        "colab": {
          "base_uri": "https://localhost:8080/"
        },
        "id": "G91f8GxyxxVT",
        "outputId": "3829ec94-3392-49fa-ba36-0ec0d6ed53b8"
      },
      "execution_count": null,
      "outputs": [
        {
          "output_type": "stream",
          "name": "stdout",
          "text": [
            "[[22 92 16 70]\n",
            " [80 73 24 71]\n",
            " [74 75 56 63]]\n"
          ]
        }
      ]
    },
    {
      "cell_type": "code",
      "source": [
        "# array of evenly spaced (sequence format and gap)\n",
        "d = np.linspace(10,30,5)\n",
        "print(d)\n",
        "# 10 and 30 r start and end value , 5 is no of values\n",
        "# we can also use another method , but differnece mentioned\n",
        "e = np.arange(10,30,5)\n",
        "print(e)\n",
        "# here 5 is sequence order"
      ],
      "metadata": {
        "colab": {
          "base_uri": "https://localhost:8080/"
        },
        "id": "8Smh2Q0i2xpL",
        "outputId": "6add61b1-6865-44b8-bf01-c919e2fa407c"
      },
      "execution_count": null,
      "outputs": [
        {
          "output_type": "stream",
          "name": "stdout",
          "text": [
            "[10. 15. 20. 25. 30.]\n",
            "[10 15 20 25]\n"
          ]
        }
      ]
    },
    {
      "cell_type": "code",
      "source": [
        "# convert a list to np_array\n",
        "list1 = [1,2,3,4,5]\n",
        "\n",
        "np_array = np.asarray(list1)\n",
        "print(np_array)\n",
        "type(np_array)"
      ],
      "metadata": {
        "colab": {
          "base_uri": "https://localhost:8080/"
        },
        "id": "2RvrOiJ63x-B",
        "outputId": "22c28211-15a7-44fb-ef24-9c7c199803d7"
      },
      "execution_count": null,
      "outputs": [
        {
          "output_type": "stream",
          "name": "stdout",
          "text": [
            "[1 2 3 4 5]\n"
          ]
        },
        {
          "output_type": "execute_result",
          "data": {
            "text/plain": [
              "numpy.ndarray"
            ]
          },
          "metadata": {},
          "execution_count": 18
        }
      ]
    },
    {
      "cell_type": "code",
      "source": [
        "# Analysing numpy array\n",
        "c = np.random.randint(10,100,(3,4))\n",
        "print(c)\n",
        "# to find rows and columns\n",
        "c.shape\n"
      ],
      "metadata": {
        "colab": {
          "base_uri": "https://localhost:8080/"
        },
        "id": "H4Bc6GCa6jdd",
        "outputId": "449f6621-c870-4df1-a8f2-3467ba2c7619"
      },
      "execution_count": null,
      "outputs": [
        {
          "output_type": "stream",
          "name": "stdout",
          "text": [
            "[[70 79 52 79]\n",
            " [47 85 56 11]\n",
            " [48 10 20 86]]\n"
          ]
        },
        {
          "output_type": "execute_result",
          "data": {
            "text/plain": [
              "(3, 4)"
            ]
          },
          "metadata": {},
          "execution_count": 22
        }
      ]
    },
    {
      "cell_type": "code",
      "source": [
        "# to find dimension (2d , 1d , or 3d )\n",
        "print(c.ndim)\n",
        "# number of elements in an array ( 3 * 4 total )\n",
        "print(c.size)"
      ],
      "metadata": {
        "colab": {
          "base_uri": "https://localhost:8080/"
        },
        "id": "cp4Ys7K17wJ0",
        "outputId": "fe4cc94c-7512-4e45-803e-96436019b5e3"
      },
      "execution_count": null,
      "outputs": [
        {
          "output_type": "stream",
          "name": "stdout",
          "text": [
            "2\n",
            "12\n"
          ]
        }
      ]
    },
    {
      "cell_type": "code",
      "source": [
        "# checking the data type in array\n",
        "print(c.dtype)"
      ],
      "metadata": {
        "colab": {
          "base_uri": "https://localhost:8080/"
        },
        "id": "kn_y0G1x8Mgh",
        "outputId": "b7060c72-718e-47be-accb-9be5870e2a98"
      },
      "execution_count": null,
      "outputs": [
        {
          "output_type": "stream",
          "name": "stdout",
          "text": [
            "int64\n"
          ]
        }
      ]
    },
    {
      "cell_type": "code",
      "source": [
        "# maths operations on np_array\n",
        "# adding lists\n",
        "\n",
        "list1 = [1,2,3,4,5]\n",
        "list2 = [6,7,8,9,10]\n",
        "total = list1 + list2\n",
        "print(total)"
      ],
      "metadata": {
        "colab": {
          "base_uri": "https://localhost:8080/"
        },
        "id": "dUsSaIra9NwD",
        "outputId": "f6988b9c-ca5e-4514-bac5-e1fec32c9fa6"
      },
      "execution_count": null,
      "outputs": [
        {
          "output_type": "stream",
          "name": "stdout",
          "text": [
            "[1, 2, 3, 4, 5, 6, 7, 8, 9, 10]\n"
          ]
        }
      ]
    },
    {
      "cell_type": "code",
      "source": [
        "# but we want to add values , so use in np!\n",
        "\n",
        "c = np.random.randint(10,20,(3,4))\n",
        "\n",
        "d = np.random.randint(30,40,(3,4))\n",
        "\n",
        "print(c,d)\n",
        "print(c + d)\n",
        "print(c - d)\n",
        "print(c * d)\n",
        "print(c / d)"
      ],
      "metadata": {
        "colab": {
          "base_uri": "https://localhost:8080/"
        },
        "id": "a5G4K4_f97xx",
        "outputId": "dc164309-bc62-4238-96c0-4bef496c4663"
      },
      "execution_count": null,
      "outputs": [
        {
          "output_type": "stream",
          "name": "stdout",
          "text": [
            "[[13 17 15 13]\n",
            " [14 13 18 19]\n",
            " [12 17 10 10]] [[30 34 34 31]\n",
            " [39 31 34 33]\n",
            " [35 32 37 38]]\n",
            "[[43 51 49 44]\n",
            " [53 44 52 52]\n",
            " [47 49 47 48]]\n",
            "[[-17 -17 -19 -18]\n",
            " [-25 -18 -16 -14]\n",
            " [-23 -15 -27 -28]]\n",
            "[[390 578 510 403]\n",
            " [546 403 612 627]\n",
            " [420 544 370 380]]\n",
            "[[0.43333333 0.5        0.44117647 0.41935484]\n",
            " [0.35897436 0.41935484 0.52941176 0.57575758]\n",
            " [0.34285714 0.53125    0.27027027 0.26315789]]\n"
          ]
        }
      ]
    },
    {
      "cell_type": "code",
      "source": [
        "# alternate method for  above method\n",
        "\n",
        "print(np.add(c,d))\n",
        "print(np.subtract(c,d))\n",
        "\n",
        "print(np.multiply(c,d))\n",
        "print(np.divide(c,d))"
      ],
      "metadata": {
        "colab": {
          "base_uri": "https://localhost:8080/"
        },
        "id": "4T-O9mz8-BDs",
        "outputId": "73554e23-a8a1-4984-c4c4-93d408229e60"
      },
      "execution_count": null,
      "outputs": [
        {
          "output_type": "stream",
          "name": "stdout",
          "text": [
            "[[43 51 49 44]\n",
            " [53 44 52 52]\n",
            " [47 49 47 48]]\n",
            "[[-17 -17 -19 -18]\n",
            " [-25 -18 -16 -14]\n",
            " [-23 -15 -27 -28]]\n",
            "[[390 578 510 403]\n",
            " [546 403 612 627]\n",
            " [420 544 370 380]]\n",
            "[[0.43333333 0.5        0.44117647 0.41935484]\n",
            " [0.35897436 0.41935484 0.52941176 0.57575758]\n",
            " [0.34285714 0.53125    0.27027027 0.26315789]]\n"
          ]
        }
      ]
    },
    {
      "cell_type": "code",
      "source": [
        "# array manipulation\n",
        "\n",
        "c = np.random.randint(10,20,(3,4))\n",
        "print(c.shape)"
      ],
      "metadata": {
        "colab": {
          "base_uri": "https://localhost:8080/"
        },
        "id": "QSgLI8Re-4lR",
        "outputId": "1e9df067-7622-45ed-f0b1-1dd3151c68c3"
      },
      "execution_count": null,
      "outputs": [
        {
          "output_type": "stream",
          "name": "stdout",
          "text": [
            "(3, 4)\n"
          ]
        }
      ]
    },
    {
      "cell_type": "code",
      "source": [
        "# Transpaose  converts (3,4 matrix as ulta)\n",
        "f = np.transpose(c)\n",
        "print(f)\n",
        "print(f.shape)"
      ],
      "metadata": {
        "colab": {
          "base_uri": "https://localhost:8080/"
        },
        "id": "rfkcfHnBAM6g",
        "outputId": "78bc9f0a-965e-47ec-fa82-e4c5644ecc76"
      },
      "execution_count": null,
      "outputs": [
        {
          "output_type": "stream",
          "name": "stdout",
          "text": [
            "[[12 15 17]\n",
            " [17 15 14]\n",
            " [19 12 18]\n",
            " [19 19 10]]\n",
            "(4, 3)\n"
          ]
        }
      ]
    },
    {
      "cell_type": "code",
      "source": [
        "# transposing with another method\n",
        "trans = c.T\n",
        "print(trans.shape)\n"
      ],
      "metadata": {
        "colab": {
          "base_uri": "https://localhost:8080/"
        },
        "id": "dqwCNAAbCBx-",
        "outputId": "d18d268c-f188-4a1c-e3e4-841d1ae4598a"
      },
      "execution_count": null,
      "outputs": [
        {
          "output_type": "stream",
          "name": "stdout",
          "text": [
            "(4, 3)\n"
          ]
        }
      ]
    },
    {
      "cell_type": "code",
      "source": [
        "# to reshape the array\n",
        "rshape = c.reshape(4,3)\n",
        "print(c.shape)"
      ],
      "metadata": {
        "colab": {
          "base_uri": "https://localhost:8080/"
        },
        "id": "39vVBmlxD7xR",
        "outputId": "62e93cb3-8f0d-4732-f90f-f690ec3aa478"
      },
      "execution_count": null,
      "outputs": [
        {
          "output_type": "stream",
          "name": "stdout",
          "text": [
            "(3, 4)\n"
          ]
        }
      ]
    },
    {
      "cell_type": "code",
      "source": [],
      "metadata": {
        "id": "_DehutE5FRcU"
      },
      "execution_count": null,
      "outputs": []
    }
  ]
}